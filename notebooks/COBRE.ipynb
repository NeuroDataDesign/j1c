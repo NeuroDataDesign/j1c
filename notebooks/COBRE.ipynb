{
 "cells": [
  {
   "cell_type": "code",
   "execution_count": 2,
   "metadata": {},
   "outputs": [],
   "source": [
    "import numpy as np\n",
    "import matplotlib.pyplot as plt\n",
    "import seaborn as sns\n",
    "import pandas as pd\n",
    "\n",
    "from sklearn.neighbors import KNeighborsClassifier\n",
    "from sklearn.model_selection import StratifiedKFold, KFold\n",
    "\n",
    "from graspy.simulations import sbm\n",
    "from graspy.embed import MultipleASE, OmnibusEmbed\n",
    "from graspy.plot import heatmap, pairplot\n",
    "from graspy.utils import symmetrize\n",
    "\n",
    "from rerf.rerfClassifier import rerfClassifier\n",
    "\n",
    "from tqdm import tqdm_notebook as tqdm\n",
    "\n",
    "%matplotlib inline"
   ]
  },
  {
   "cell_type": "code",
   "execution_count": 3,
   "metadata": {},
   "outputs": [],
   "source": [
    "#Load data and wrangle it\n",
    "file = np.load('../data/raw/COBRE.npz')\n",
    "\n",
    "X = file['X']\n",
    "y = file['y'].astype(int)\n",
    "\n",
    "y[y == -1] = 0\n",
    "\n",
    "idx = np.triu_indices(263, k=1)\n",
    "\n",
    "X_graphs = np.zeros((124, 263, 263))\n",
    "\n",
    "for i, x in enumerate(X):\n",
    "    X_graphs[i][idx] = x\n",
    "    X_graphs[i] = symmetrize(X_graphs[i], 'triu')"
   ]
  },
  {
   "cell_type": "code",
   "execution_count": 5,
   "metadata": {},
   "outputs": [],
   "source": [
    "def run_grerf(XTRAIN, YTRAIN, XTEST, YTEST):\n",
    "    XTRAIN_samples = XTRAIN.shape[0]\n",
    "    XTEST_samples = XTEST.shape[0]\n",
    "    \n",
    "    img_height = XTRAIN.shape[1]\n",
    "    \n",
    "    XTRAIN = XTRAIN.copy().reshape(XTRAIN_samples, -1)\n",
    "    XTEST = XTEST.copy().reshape(XTEST_samples, -1)\n",
    "\n",
    "    cls = rerfClassifier(\n",
    "        projection_matrix=\"Graph-RerF\",\n",
    "        max_features=img_height**2,\n",
    "        n_jobs=94,\n",
    "        n_estimators=1000,\n",
    "        oob_score=False,\n",
    "        random_state=None,\n",
    "        image_height=img_height,\n",
    "        image_width=img_height,\n",
    "        patch_height_max=48,\n",
    "        patch_height_min=16,\n",
    "        patch_width_max=48,\n",
    "        patch_width_min=16\n",
    "    )\n",
    "    \n",
    "    cls.fit(XTRAIN, YTRAIN)\n",
    "    \n",
    "    preds = np.array(cls.predict(XTEST))\n",
    "    error = np.mean(preds != YTEST)\n",
    "    \n",
    "    return error\n",
    "\n",
    "\n",
    "def run_classification(train_idx, test_idx, X, y):\n",
    "    XTRAIN = X[train_idx]\n",
    "    YTRAIN = y[train_idx]\n",
    "    XTEST = X[test_idx]\n",
    "    YTEST = y[test_idx]\n",
    "\n",
    "    data = [XTRAIN, YTRAIN, XTEST, YTEST]\n",
    "\n",
    "    srerf_error = run_srerf(*data)\n",
    "    rerf_error = run_rerf(*data)\n",
    "    mase_error = run_mase(*data)\n",
    "\n",
    "    return srerf_error, rerf_error, mase_error\n",
    "\n",
    "def run_classification2(train_idx, test_idx, X, y):\n",
    "    XTRAIN = X[train_idx]\n",
    "    YTRAIN = y[train_idx]\n",
    "    XTEST = X[test_idx]\n",
    "    YTEST = y[test_idx]\n",
    "\n",
    "    data = [XTRAIN, YTRAIN, XTEST, YTEST]\n",
    "\n",
    "    grerf_error = run_grerf(*data)\n",
    "\n",
    "    return grerf_error"
   ]
  },
  {
   "cell_type": "code",
   "execution_count": 6,
   "metadata": {},
   "outputs": [],
   "source": [
    "kfold = KFold(n_splits=10)\n",
    "\n",
    "errors = []\n",
    "for train_idx, test_idx in kfold.split(X=X_graphs, y=y):\n",
    "    errors.append(run_classification2(train_idx, test_idx, X_graphs, y))"
   ]
  },
  {
   "cell_type": "code",
   "execution_count": 7,
   "metadata": {},
   "outputs": [
    {
     "data": {
      "text/plain": [
       "[0.38461538461538464,\n",
       " 0.5384615384615384,\n",
       " 0.3076923076923077,\n",
       " 0.38461538461538464,\n",
       " 0.16666666666666666,\n",
       " 0.5833333333333334,\n",
       " 0.5,\n",
       " 0.4166666666666667,\n",
       " 0.25,\n",
       " 0.3333333333333333]"
      ]
     },
     "execution_count": 7,
     "metadata": {},
     "output_type": "execute_result"
    }
   ],
   "source": [
    "errors"
   ]
  },
  {
   "cell_type": "code",
   "execution_count": 8,
   "metadata": {},
   "outputs": [
    {
     "data": {
      "text/plain": [
       "0.38653846153846155"
      ]
     },
     "execution_count": 8,
     "metadata": {},
     "output_type": "execute_result"
    }
   ],
   "source": [
    "np.array(errors).mean()"
   ]
  },
  {
   "cell_type": "code",
   "execution_count": null,
   "metadata": {},
   "outputs": [],
   "source": []
  }
 ],
 "metadata": {
  "kernelspec": {
   "display_name": "Python 3",
   "language": "python",
   "name": "python3"
  },
  "language_info": {
   "codemirror_mode": {
    "name": "ipython",
    "version": 3
   },
   "file_extension": ".py",
   "mimetype": "text/x-python",
   "name": "python",
   "nbconvert_exporter": "python",
   "pygments_lexer": "ipython3",
   "version": "3.7.3"
  }
 },
 "nbformat": 4,
 "nbformat_minor": 2
}
